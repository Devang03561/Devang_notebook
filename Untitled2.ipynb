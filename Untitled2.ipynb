{
 "cells": [
  {
   "cell_type": "code",
   "execution_count": 1,
   "id": "8e0f3f41-2cc0-44d5-84ab-3a14bc4be26b",
   "metadata": {},
   "outputs": [
    {
     "name": "stdout",
     "output_type": "stream",
     "text": [
      "Set Elements: {40, 10, 20, 30}\n"
     ]
    }
   ],
   "source": [
    "my_set = {10, 20, 30, 40}\n",
    "print(\"Set Elements:\", my_set)\n"
   ]
  },
  {
   "cell_type": "code",
   "execution_count": 2,
   "id": "bbc08907-6a04-481d-99d5-9774ef50e5d4",
   "metadata": {},
   "outputs": [
    {
     "name": "stdout",
     "output_type": "stream",
     "text": [
      "After Adding 50: {40, 10, 50, 20, 30}\n"
     ]
    }
   ],
   "source": [
    "my_set.add(50)\n",
    "print(\"After Adding 50:\", my_set)\n"
   ]
  },
  {
   "cell_type": "code",
   "execution_count": 3,
   "id": "0737ca94-e618-4302-b027-fe790e04fddf",
   "metadata": {},
   "outputs": [
    {
     "name": "stdout",
     "output_type": "stream",
     "text": [
      "After Removing 20: {40, 10, 50, 30}\n"
     ]
    }
   ],
   "source": [
    "my_set.remove(20)  # Raises error if element not found\n",
    "print(\"After Removing 20:\", my_set)\n"
   ]
  },
  {
   "cell_type": "code",
   "execution_count": 4,
   "id": "e7ca9b0d-020e-4deb-acbb-bb36a895a39b",
   "metadata": {},
   "outputs": [
    {
     "name": "stdout",
     "output_type": "stream",
     "text": [
      "Cleared Set: set()\n"
     ]
    }
   ],
   "source": [
    "temp_set = {1, 2, 3}\n",
    "temp_set.clear()\n",
    "print(\"Cleared Set:\", temp_set)\n"
   ]
  },
  {
   "cell_type": "code",
   "execution_count": 5,
   "id": "d5c01134-f318-48bb-a729-3176570f24c0",
   "metadata": {},
   "outputs": [
    {
     "name": "stdout",
     "output_type": "stream",
     "text": [
      "Copied Set: {40, 10, 50, 30}\n"
     ]
    }
   ],
   "source": [
    "copied_set = my_set.copy()\n",
    "print(\"Copied Set:\", copied_set)\n"
   ]
  },
  {
   "cell_type": "code",
   "execution_count": 6,
   "id": "dbed02a8-6aa9-40ea-ac1c-9fa4b5348cda",
   "metadata": {},
   "outputs": [
    {
     "name": "stdout",
     "output_type": "stream",
     "text": [
      "30 in set? True\n"
     ]
    }
   ],
   "source": [
    "print(\"30 in set?\", 30 in my_set)\n"
   ]
  },
  {
   "cell_type": "code",
   "execution_count": 7,
   "id": "2bb71085-f794-44f7-855f-2e6f3a7752b0",
   "metadata": {},
   "outputs": [
    {
     "name": "stdout",
     "output_type": "stream",
     "text": [
      "Length of set: 4\n"
     ]
    }
   ],
   "source": [
    "print(\"Length of set:\", len(my_set))\n"
   ]
  },
  {
   "cell_type": "code",
   "execution_count": 8,
   "id": "daa80bef-672d-4525-89c7-e559e5749c4e",
   "metadata": {},
   "outputs": [
    {
     "name": "stdout",
     "output_type": "stream",
     "text": [
      "Set Elements:\n",
      "40\n",
      "10\n",
      "50\n",
      "30\n"
     ]
    }
   ],
   "source": [
    "print(\"Set Elements:\")\n",
    "for item in my_set:\n",
    "    print(item)\n"
   ]
  },
  {
   "cell_type": "code",
   "execution_count": 9,
   "id": "9533c1d2-9893-475c-ac46-3f89725e365a",
   "metadata": {},
   "outputs": [
    {
     "name": "stdout",
     "output_type": "stream",
     "text": [
      "Union: {1, 2, 3, 4, 5}\n"
     ]
    }
   ],
   "source": [
    "a = {1, 2, 3}\n",
    "b = {3, 4, 5}\n",
    "print(\"Union:\", a | b)\n"
   ]
  },
  {
   "cell_type": "code",
   "execution_count": 10,
   "id": "c2ecdd66-a1d8-40c6-ab3e-6b754873203a",
   "metadata": {},
   "outputs": [
    {
     "name": "stdout",
     "output_type": "stream",
     "text": [
      "Intersection: {3}\n"
     ]
    }
   ],
   "source": [
    "print(\"Intersection:\", a & b)\n"
   ]
  },
  {
   "cell_type": "code",
   "execution_count": 11,
   "id": "f4a08cca-cb33-4822-b9e4-d110ef6e0c15",
   "metadata": {},
   "outputs": [
    {
     "name": "stdout",
     "output_type": "stream",
     "text": [
      "Difference (a - b): {1, 2}\n"
     ]
    }
   ],
   "source": [
    "print(\"Difference (a - b):\", a - b)\n"
   ]
  },
  {
   "cell_type": "code",
   "execution_count": 12,
   "id": "ee1a8bba-1a34-457b-81ad-9b31d623bdcb",
   "metadata": {},
   "outputs": [
    {
     "name": "stdout",
     "output_type": "stream",
     "text": [
      "Symmetric Difference: {1, 2, 4, 5}\n"
     ]
    }
   ],
   "source": [
    "print(\"Symmetric Difference:\", a ^ b)\n"
   ]
  },
  {
   "cell_type": "code",
   "execution_count": 13,
   "id": "f938cecb-2c37-4cda-b0f5-de3a1852f127",
   "metadata": {},
   "outputs": [
    {
     "name": "stdout",
     "output_type": "stream",
     "text": [
      "Is subset? True\n"
     ]
    }
   ],
   "source": [
    "subset = {1, 2}\n",
    "print(\"Is subset?\", subset.issubset(a))\n"
   ]
  },
  {
   "cell_type": "code",
   "execution_count": 14,
   "id": "6f4d063d-7b75-4f6b-adf8-0b5aae482de5",
   "metadata": {},
   "outputs": [
    {
     "name": "stdout",
     "output_type": "stream",
     "text": [
      "Is superset? True\n"
     ]
    }
   ],
   "source": [
    "print(\"Is superset?\", a.issuperset(subset))\n"
   ]
  },
  {
   "cell_type": "code",
   "execution_count": null,
   "id": "a1a650d0-529c-49ee-a96b-7171415f32ae",
   "metadata": {},
   "outputs": [],
   "source": []
  }
 ],
 "metadata": {
  "kernelspec": {
   "display_name": "Python 3 (ipykernel)",
   "language": "python",
   "name": "python3"
  },
  "language_info": {
   "codemirror_mode": {
    "name": "ipython",
    "version": 3
   },
   "file_extension": ".py",
   "mimetype": "text/x-python",
   "name": "python",
   "nbconvert_exporter": "python",
   "pygments_lexer": "ipython3",
   "version": "3.13.2"
  }
 },
 "nbformat": 4,
 "nbformat_minor": 5
}
