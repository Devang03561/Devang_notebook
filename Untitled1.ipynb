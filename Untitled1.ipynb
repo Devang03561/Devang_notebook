{
 "cells": [
  {
   "cell_type": "code",
   "execution_count": null,
   "id": "2e75e870-ab4c-4109-957b-0123d6dc6a86",
   "metadata": {},
   "outputs": [],
   "source": []
  }
 ],
 "metadata": {
  "kernelspec": {
   "display_name": "",
   "name": ""
  },
  "language_info": {
   "name": ""
  }
 },
 "nbformat": 4,
 "nbformat_minor": 5
}
