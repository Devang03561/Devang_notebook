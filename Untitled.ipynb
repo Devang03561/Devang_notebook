{
 "cells": [
  {
   "cell_type": "code",
   "execution_count": 1,
   "id": "15128b88-61f8-4ad0-94a9-9329703b03a5",
   "metadata": {},
   "outputs": [
    {
     "name": "stdout",
     "output_type": "stream",
     "text": [
      "Odd\n"
     ]
    }
   ],
   "source": [
    "def is_even_or_odd(num):\n",
    "    if num % 2 == 0:\n",
    "        return \"Even\"\n",
    "    else:\n",
    "        return \"Odd\"\n",
    "\n",
    "print(is_even_or_odd(7))"
   ]
  },
  {
   "cell_type": "code",
   "execution_count": 2,
   "id": "21eaf414-7fdd-4df6-971c-108feda7cf74",
   "metadata": {},
   "outputs": [
    {
     "name": "stdout",
     "output_type": "stream",
     "text": [
      "5\n"
     ]
    }
   ],
   "source": [
    "def count_digits(num):\n",
    "    return len(str(abs(num)))\n",
    "\n",
    "print(count_digits(12345))\n"
   ]
  },
  {
   "cell_type": "code",
   "execution_count": 3,
   "id": "6aac956b-2ef2-4583-b101-65389dbb69a2",
   "metadata": {},
   "outputs": [
    {
     "name": "stdout",
     "output_type": "stream",
     "text": [
      "5 4 3 2 1 \n",
      "5 4 3 2 \n",
      "5 4 3 \n",
      "5 4 \n",
      "5 \n"
     ]
    }
   ],
   "source": [
    "def reverse_pattern(n):\n",
    "    for i in range(n, 0, -1):\n",
    "        for j in range(n, n - i, -1):\n",
    "            print(j, end=\" \")\n",
    "        print()\n",
    "\n",
    "reverse_pattern(5)\n"
   ]
  },
  {
   "cell_type": "code",
   "execution_count": 4,
   "id": "b9c730db-6a01-4870-88ad-43670211640e",
   "metadata": {},
   "outputs": [
    {
     "name": "stdout",
     "output_type": "stream",
     "text": [
      "11 13 17 19 23 29 31 37 41 43 47 "
     ]
    }
   ],
   "source": [
    "def is_prime(n):\n",
    "    if n < 2:\n",
    "        return False\n",
    "    for i in range(2, int(n**0.5)+1):\n",
    "        if n % i == 0:\n",
    "            return False\n",
    "    return True\n",
    "\n",
    "def print_primes(start, end):\n",
    "    for num in range(start, end + 1):\n",
    "        if is_prime(num):\n",
    "            print(num, end=\" \")\n",
    "\n",
    "print_primes(10, 50)\n"
   ]
  },
  {
   "cell_type": "code",
   "execution_count": 5,
   "id": "3571d438-3af9-426d-952b-0b2ee398b07e",
   "metadata": {},
   "outputs": [
    {
     "name": "stdout",
     "output_type": "stream",
     "text": [
      "120\n"
     ]
    }
   ],
   "source": [
    "def factorial(n):\n",
    "    if n == 0 or n == 1:\n",
    "        return 1\n",
    "    return n * factorial(n - 1)\n",
    "\n",
    "print(factorial(5))\n"
   ]
  },
  {
   "cell_type": "code",
   "execution_count": 6,
   "id": "bb013554-aa81-4137-b38d-6a7e5e127fef",
   "metadata": {},
   "outputs": [
    {
     "name": "stdout",
     "output_type": "stream",
     "text": [
      "True\n"
     ]
    }
   ],
   "source": [
    "def is_palindrome(num):\n",
    "    return str(num) == str(num)[::-1]\n",
    "\n",
    "print(is_palindrome(121)) \n"
   ]
  },
  {
   "cell_type": "code",
   "execution_count": 7,
   "id": "aa1d5082-c982-4f0b-9b82-e6ff07aaefcc",
   "metadata": {},
   "outputs": [
    {
     "name": "stdout",
     "output_type": "stream",
     "text": [
      "True\n"
     ]
    }
   ],
   "source": [
    "def is_armstrong(num):\n",
    "    digits = [int(d) for d in str(num)]\n",
    "    power = len(digits)\n",
    "    return sum(d**power for d in digits) == num\n",
    "\n",
    "print(is_armstrong(153)) "
   ]
  },
  {
   "cell_type": "code",
   "execution_count": 8,
   "id": "4d56de40-4f67-40f7-bf52-cc2d0a45e647",
   "metadata": {},
   "outputs": [
    {
     "name": "stdout",
     "output_type": "stream",
     "text": [
      "12\n"
     ]
    }
   ],
   "source": [
    "def maximum_of_three(a, b, c):\n",
    "    return max(a, b, c)\n",
    "\n",
    "print(maximum_of_three(5, 12, 9))\n"
   ]
  },
  {
   "cell_type": "code",
   "execution_count": 9,
   "id": "9675f630-012d-49f1-9e83-55aaa9d9254f",
   "metadata": {},
   "outputs": [
    {
     "name": "stdout",
     "output_type": "stream",
     "text": [
      "10\n"
     ]
    }
   ],
   "source": [
    "def sum_of_digits(num):\n",
    "    return sum(int(d) for d in str(abs(num)))\n",
    "\n",
    "print(sum_of_digits(1234))\n"
   ]
  },
  {
   "cell_type": "code",
   "execution_count": 10,
   "id": "593fc0d6-648f-4680-b5c7-1f327171ff21",
   "metadata": {},
   "outputs": [
    {
     "name": "stdout",
     "output_type": "stream",
     "text": [
      "1 = 1\n",
      "1 + 2 = 3\n",
      "1 + 2 + 3 = 6\n",
      "1 + 2 + 3 + 4 = 10\n",
      "1 + 2 + 3 + 4 + 5 = 15\n"
     ]
    }
   ],
   "source": [
    "def print_natural_summation_pattern(n):\n",
    "    total = 0\n",
    "    for i in range(1, n + 1):\n",
    "        total += i\n",
    "        expression = \" + \".join(str(x) for x in range(1, i + 1))\n",
    "        print(f\"{expression} = {total}\")\n",
    "\n",
    "print_natural_summation_pattern(5)\n"
   ]
  },
  {
   "cell_type": "code",
   "execution_count": null,
   "id": "2ea1a06c-7e93-460a-ba17-ef2f460952e8",
   "metadata": {},
   "outputs": [],
   "source": []
  }
 ],
 "metadata": {
  "kernelspec": {
   "display_name": "Python 3 (ipykernel)",
   "language": "python",
   "name": "python3"
  },
  "language_info": {
   "codemirror_mode": {
    "name": "ipython",
    "version": 3
   },
   "file_extension": ".py",
   "mimetype": "text/x-python",
   "name": "python",
   "nbconvert_exporter": "python",
   "pygments_lexer": "ipython3",
   "version": "3.13.2"
  }
 },
 "nbformat": 4,
 "nbformat_minor": 5
}
