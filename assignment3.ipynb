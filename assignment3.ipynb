{
 "cells": [
  {
   "cell_type": "markdown",
   "id": "bb920410-fa29-473d-b6bd-57455c852da1",
   "metadata": {},
   "source": [
    "# Practical Assignment 3"
   ]
  },
  {
   "cell_type": "markdown",
   "id": "816019db-8565-4b01-b975-bad35b22911c",
   "metadata": {},
   "source": [
    "* Create a set and display its elements"
   ]
  },
  {
   "cell_type": "code",
   "execution_count": 1,
   "id": "8e0f3f41-2cc0-44d5-84ab-3a14bc4be26b",
   "metadata": {},
   "outputs": [
    {
     "name": "stdout",
     "output_type": "stream",
     "text": [
      "Set Elements: {40, 10, 20, 30}\n"
     ]
    }
   ],
   "source": [
    "\n",
    "my_set = {10, 20, 30, 40}\n",
    "print(\"Set Elements:\", my_set)\n"
   ]
  },
  {
   "cell_type": "markdown",
   "id": "7d6146df-d82b-442e-bf59-58c80c80e0dc",
   "metadata": {},
   "source": [
    "* 2. Add an element to a set"
   ]
  },
  {
   "cell_type": "code",
   "execution_count": 2,
   "id": "bbc08907-6a04-481d-99d5-9774ef50e5d4",
   "metadata": {},
   "outputs": [
    {
     "name": "stdout",
     "output_type": "stream",
     "text": [
      "After Adding 50: {40, 10, 50, 20, 30}\n"
     ]
    }
   ],
   "source": [
    "my_set.add(50)\n",
    "print(\"After Adding 50:\", my_set)\n"
   ]
  },
  {
   "cell_type": "markdown",
   "id": "b77a49ee-bbbd-40ed-8e33-dbf97ce6f5be",
   "metadata": {},
   "source": [
    "* 3. Remove an element from a set"
   ]
  },
  {
   "cell_type": "code",
   "execution_count": 3,
   "id": "0737ca94-e618-4302-b027-fe790e04fddf",
   "metadata": {},
   "outputs": [
    {
     "name": "stdout",
     "output_type": "stream",
     "text": [
      "After Removing 20: {40, 10, 50, 30}\n"
     ]
    }
   ],
   "source": [
    "my_set.remove(20)  # Raises error if element not found\n",
    "print(\"After Removing 20:\", my_set)\n"
   ]
  },
  {
   "cell_type": "markdown",
   "id": "7dfb2f4e-d31f-4a42-8c36-cea89e1b30ed",
   "metadata": {},
   "source": [
    "* 4. Clear all elements from a set"
   ]
  },
  {
   "cell_type": "code",
   "execution_count": 4,
   "id": "e7ca9b0d-020e-4deb-acbb-bb36a895a39b",
   "metadata": {},
   "outputs": [
    {
     "name": "stdout",
     "output_type": "stream",
     "text": [
      "Cleared Set: set()\n"
     ]
    }
   ],
   "source": [
    "temp_set = {1, 2, 3}\n",
    "temp_set.clear()\n",
    "print(\"Cleared Set:\", temp_set)\n"
   ]
  },
  {
   "cell_type": "markdown",
   "id": "2155359a-9f2d-4860-a989-21cc4c949c17",
   "metadata": {},
   "source": [
    "* 5. Copy a set to another set"
   ]
  },
  {
   "cell_type": "code",
   "execution_count": 5,
   "id": "d5c01134-f318-48bb-a729-3176570f24c0",
   "metadata": {},
   "outputs": [
    {
     "name": "stdout",
     "output_type": "stream",
     "text": [
      "Copied Set: {40, 10, 50, 30}\n"
     ]
    }
   ],
   "source": [
    "copied_set = my_set.copy()\n",
    "print(\"Copied Set:\", copied_set)\n"
   ]
  },
  {
   "cell_type": "markdown",
   "id": "4b8cd299-ef05-4bf7-ad18-bee019158944",
   "metadata": {},
   "source": [
    "* 6. Check if an element exists in a set"
   ]
  },
  {
   "cell_type": "code",
   "execution_count": 6,
   "id": "dbed02a8-6aa9-40ea-ac1c-9fa4b5348cda",
   "metadata": {},
   "outputs": [
    {
     "name": "stdout",
     "output_type": "stream",
     "text": [
      "30 in set? True\n"
     ]
    }
   ],
   "source": [
    "print(\"30 in set?\", 30 in my_set)\n"
   ]
  },
  {
   "cell_type": "markdown",
   "id": "78ffc374-56fc-45cc-9045-d7f080c01869",
   "metadata": {},
   "source": [
    "* 7. Find the length of a set"
   ]
  },
  {
   "cell_type": "code",
   "execution_count": 7,
   "id": "2bb71085-f794-44f7-855f-2e6f3a7752b0",
   "metadata": {},
   "outputs": [
    {
     "name": "stdout",
     "output_type": "stream",
     "text": [
      "Length of set: 4\n"
     ]
    }
   ],
   "source": [
    "print(\"Length of set:\", len(my_set))\n"
   ]
  },
  {
   "cell_type": "markdown",
   "id": "fff12ead-1377-4645-9ee4-4739afcd9af8",
   "metadata": {},
   "source": [
    "* 8. Iterate through a set using a loop"
   ]
  },
  {
   "cell_type": "code",
   "execution_count": 8,
   "id": "daa80bef-672d-4525-89c7-e559e5749c4e",
   "metadata": {},
   "outputs": [
    {
     "name": "stdout",
     "output_type": "stream",
     "text": [
      "Set Elements:\n",
      "40\n",
      "10\n",
      "50\n",
      "30\n"
     ]
    }
   ],
   "source": [
    "print(\"Set Elements:\")\n",
    "for item in my_set:\n",
    "    print(item)\n"
   ]
  },
  {
   "cell_type": "markdown",
   "id": "17fd6d5e-41ea-4e5d-8611-3922b5849cbb",
   "metadata": {},
   "source": [
    " # Set Operations"
   ]
  },
  {
   "cell_type": "markdown",
   "id": "d2fecc38-0fef-4023-8c08-1ca725c379f5",
   "metadata": {},
   "source": [
    "* 9. Find the union of two sets"
   ]
  },
  {
   "cell_type": "code",
   "execution_count": 9,
   "id": "9533c1d2-9893-475c-ac46-3f89725e365a",
   "metadata": {},
   "outputs": [
    {
     "name": "stdout",
     "output_type": "stream",
     "text": [
      "Union: {1, 2, 3, 4, 5}\n"
     ]
    }
   ],
   "source": [
    "a = {1, 2, 3}\n",
    "b = {3, 4, 5}\n",
    "print(\"Union:\", a | b)\n"
   ]
  },
  {
   "cell_type": "markdown",
   "id": "7d674f84-519c-40a0-a423-8ef4d4ebae0b",
   "metadata": {},
   "source": [
    "* 10. Find the intersection of two sets"
   ]
  },
  {
   "cell_type": "code",
   "execution_count": 10,
   "id": "c2ecdd66-a1d8-40c6-ab3e-6b754873203a",
   "metadata": {},
   "outputs": [
    {
     "name": "stdout",
     "output_type": "stream",
     "text": [
      "Intersection: {3}\n"
     ]
    }
   ],
   "source": [
    "print(\"Intersection:\", a & b)\n"
   ]
  },
  {
   "cell_type": "markdown",
   "id": "3f557a58-b701-4f90-a707-ef158686481f",
   "metadata": {},
   "source": [
    "* 11. Find the difference between two sets"
   ]
  },
  {
   "cell_type": "code",
   "execution_count": 11,
   "id": "f4a08cca-cb33-4822-b9e4-d110ef6e0c15",
   "metadata": {},
   "outputs": [
    {
     "name": "stdout",
     "output_type": "stream",
     "text": [
      "Difference (a - b): {1, 2}\n"
     ]
    }
   ],
   "source": [
    "print(\"Difference (a - b):\", a - b)\n"
   ]
  },
  {
   "cell_type": "markdown",
   "id": "82479baf-c454-41a3-a794-65b7c2759add",
   "metadata": {},
   "source": [
    "* 12. Find the symmetric difference between two sets"
   ]
  },
  {
   "cell_type": "code",
   "execution_count": 12,
   "id": "ee1a8bba-1a34-457b-81ad-9b31d623bdcb",
   "metadata": {},
   "outputs": [
    {
     "name": "stdout",
     "output_type": "stream",
     "text": [
      "Symmetric Difference: {1, 2, 4, 5}\n"
     ]
    }
   ],
   "source": [
    "print(\"Symmetric Difference:\", a ^ b)\n"
   ]
  },
  {
   "cell_type": "markdown",
   "id": "cc058207-6267-478c-8f00-aa0a93d95903",
   "metadata": {},
   "source": [
    "* 13. Check if one set is a subset of another"
   ]
  },
  {
   "cell_type": "code",
   "execution_count": 13,
   "id": "f938cecb-2c37-4cda-b0f5-de3a1852f127",
   "metadata": {},
   "outputs": [
    {
     "name": "stdout",
     "output_type": "stream",
     "text": [
      "Is subset? True\n"
     ]
    }
   ],
   "source": [
    "subset = {1, 2}\n",
    "print(\"Is subset?\", subset.issubset(a))\n"
   ]
  },
  {
   "cell_type": "markdown",
   "id": "08a4e5ee-0ce7-4ec5-84cc-45f17310c8cc",
   "metadata": {},
   "source": [
    "* 14. Check if one set is a superset of another"
   ]
  },
  {
   "cell_type": "code",
   "execution_count": 14,
   "id": "6f4d063d-7b75-4f6b-adf8-0b5aae482de5",
   "metadata": {},
   "outputs": [
    {
     "name": "stdout",
     "output_type": "stream",
     "text": [
      "Is superset? True\n"
     ]
    }
   ],
   "source": [
    "print(\"Is superset?\", a.issuperset(subset))\n"
   ]
  },
  {
   "cell_type": "markdown",
   "id": "86c0ba00-d54c-4514-a002-d40f1596a8db",
   "metadata": {},
   "source": [
    "* 15. Check if two sets are disjoint"
   ]
  },
  {
   "cell_type": "code",
   "execution_count": 15,
   "id": "a1a650d0-529c-49ee-a96b-7171415f32ae",
   "metadata": {},
   "outputs": [
    {
     "name": "stdout",
     "output_type": "stream",
     "text": [
      "Are disjoint? True\n"
     ]
    }
   ],
   "source": [
    "disjoint_a = {1, 2}\n",
    "disjoint_b = {3, 4}\n",
    "print(\"Are disjoint?\", disjoint_a.isdisjoint(disjoint_b))\n"
   ]
  },
  {
   "cell_type": "markdown",
   "id": "32702f6f-a359-4612-8a7c-e06acca7b939",
   "metadata": {},
   "source": [
    "# Set Applications"
   ]
  },
  {
   "cell_type": "markdown",
   "id": "5f7b254d-1ca8-4072-99f9-169d6ff03a37",
   "metadata": {},
   "source": [
    "* 16. Remove duplicates from a list using a set"
   ]
  },
  {
   "cell_type": "code",
   "execution_count": 16,
   "id": "789574d9-5d65-4490-b331-3a365c47e0a0",
   "metadata": {},
   "outputs": [
    {
     "name": "stdout",
     "output_type": "stream",
     "text": [
      "Unique values: {1, 2, 3, 4}\n"
     ]
    }
   ],
   "source": [
    "my_list = [1, 2, 2, 3, 4, 4]\n",
    "unique = set(my_list)\n",
    "print(\"Unique values:\", unique)\n"
   ]
  },
  {
   "cell_type": "markdown",
   "id": "a370c629-fe70-41cd-aac6-b33672c64c6f",
   "metadata": {},
   "source": [
    "* 17. Convert a list to a set and back to a list"
   ]
  },
  {
   "cell_type": "code",
   "execution_count": 17,
   "id": "33af22ad-d487-42b3-b2f4-5d61c37fc51b",
   "metadata": {},
   "outputs": [
    {
     "name": "stdout",
     "output_type": "stream",
     "text": [
      "List: [5, 6, 6, 7]\n",
      "Set: {5, 6, 7}\n",
      "Back to List: [5, 6, 7]\n"
     ]
    }
   ],
   "source": [
    "my_list = [5, 6, 6, 7]\n",
    "temp_set = set(my_list)\n",
    "back_to_list = list(temp_set)\n",
    "print(\"List:\", my_list)\n",
    "print(\"Set:\", temp_set)\n",
    "print(\"Back to List:\", back_to_list)\n"
   ]
  },
  {
   "cell_type": "markdown",
   "id": "31a9f830-6938-4443-a80a-985771da7887",
   "metadata": {},
   "source": [
    "* 18. Find common elements in two lists using sets"
   ]
  },
  {
   "cell_type": "code",
   "execution_count": 18,
   "id": "5aab80d7-acfb-4934-95e6-7c3a6e4162b6",
   "metadata": {},
   "outputs": [
    {
     "name": "stdout",
     "output_type": "stream",
     "text": [
      "Common Elements: {2, 3}\n"
     ]
    }
   ],
   "source": [
    "list1 = [1, 2, 3]\n",
    "list2 = [2, 3, 4]\n",
    "common = set(list1) & set(list2)\n",
    "print(\"Common Elements:\", common)\n"
   ]
  },
  {
   "cell_type": "markdown",
   "id": "7485ed08-efa9-41b8-9339-b25bc12e8685",
   "metadata": {},
   "source": [
    "* 19. Get elements in one list but not in another using sets"
   ]
  },
  {
   "cell_type": "code",
   "execution_count": 19,
   "id": "e05097ac-1089-4f1b-9471-5bc7c28ccc45",
   "metadata": {},
   "outputs": [
    {
     "name": "stdout",
     "output_type": "stream",
     "text": [
      "Only in list1: {1}\n"
     ]
    }
   ],
   "source": [
    "only_in_list1 = set(list1) - set(list2)\n",
    "print(\"Only in list1:\", only_in_list1)\n"
   ]
  },
  {
   "cell_type": "markdown",
   "id": "88326bb6-bf88-4f27-987e-6773d43b1e3d",
   "metadata": {},
   "source": [
    "* 20. Use set comprehension to generate a set (e.g., squares or primes)"
   ]
  },
  {
   "cell_type": "code",
   "execution_count": 20,
   "id": "e3b81c82-e540-4088-9b2a-ae94beaf8241",
   "metadata": {},
   "outputs": [
    {
     "name": "stdout",
     "output_type": "stream",
     "text": [
      "Squares: {1, 4, 9, 16, 25}\n"
     ]
    }
   ],
   "source": [
    "squares = {x*x for x in range(1, 6)}\n",
    "print(\"Squares:\", squares)\n"
   ]
  },
  {
   "cell_type": "markdown",
   "id": "b2e6d414-7633-44e7-b788-ccfe3a1f73c6",
   "metadata": {},
   "source": [
    "# Frozen Set Programs"
   ]
  },
  {
   "cell_type": "markdown",
   "id": "76b53079-c38a-4113-bea9-83c0876c3eb8",
   "metadata": {},
   "source": [
    "* 21. Create and print a frozenset"
   ]
  },
  {
   "cell_type": "code",
   "execution_count": 21,
   "id": "a5a9e794-6b02-4326-8d05-31b4efb1d598",
   "metadata": {},
   "outputs": [
    {
     "name": "stdout",
     "output_type": "stream",
     "text": [
      "FrozenSet: frozenset({10, 20, 30})\n"
     ]
    }
   ],
   "source": [
    "fset = frozenset([10, 20, 30])\n",
    "print(\"FrozenSet:\", fset)\n"
   ]
  }
 ],
 "metadata": {
  "kernelspec": {
   "display_name": "Python 3 (ipykernel)",
   "language": "python",
   "name": "python3"
  },
  "language_info": {
   "codemirror_mode": {
    "name": "ipython",
    "version": 3
   },
   "file_extension": ".py",
   "mimetype": "text/x-python",
   "name": "python",
   "nbconvert_exporter": "python",
   "pygments_lexer": "ipython3",
   "version": "3.13.2"
  }
 },
 "nbformat": 4,
 "nbformat_minor": 5
}
