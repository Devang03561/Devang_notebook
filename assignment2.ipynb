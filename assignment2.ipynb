{
 "cells": [
  {
   "cell_type": "markdown",
   "id": "e92aa088-28e6-45af-b647-1a09f92f3f73",
   "metadata": {},
   "source": [
    "# Practical Assignment 2\n",
    "# Use Tuple for the following programs"
   ]
  },
  {
   "cell_type": "markdown",
   "id": "adc7dfc4-1128-422a-9b2f-728321aba713",
   "metadata": {},
   "source": [
    "* 1) Store and display student information (name, age, grade)."
   ]
  },
  {
   "cell_type": "code",
   "execution_count": 1,
   "id": "2e75e870-ab4c-4109-957b-0123d6dc6a86",
   "metadata": {},
   "outputs": [
    {
     "name": "stdout",
     "output_type": "stream",
     "text": [
      "Name: Alice, Age: 16, Grade: A\n"
     ]
    }
   ],
   "source": [
    "def display_student_info(student):\n",
    "    print(f\"Name: {student[0]}, Age: {student[1]}, Grade: {student[2]}\")\n",
    "\n",
    "student = (\"Alice\", 16, \"A\")\n",
    "display_student_info(student)\n"
   ]
  },
  {
   "cell_type": "code",
   "execution_count": null,
   "id": "b9ad9a92-955f-49db-8644-7f48f61ffaf6",
   "metadata": {},
   "outputs": [],
   "source": []
  },
  {
   "cell_type": "markdown",
   "id": "046f7873-8983-431e-a8bc-aa3266cb3f5b",
   "metadata": {},
   "source": [
    "* 2) List prices of grocery items and total them."
   ]
  },
  {
   "cell_type": "code",
   "execution_count": 2,
   "id": "0ab2947c-917c-4ed3-abd4-edc55a636f52",
   "metadata": {},
   "outputs": [
    {
     "name": "stdout",
     "output_type": "stream",
     "text": [
      "Total price: ₹95\n"
     ]
    }
   ],
   "source": [
    "def total_prices(prices):\n",
    "    total = sum(prices)\n",
    "    print(f\"Total price: ₹{total}\")\n",
    "\n",
    "prices = (25, 50, 20)\n",
    "total_prices(prices)\n"
   ]
  },
  {
   "cell_type": "code",
   "execution_count": null,
   "id": "f0afca8a-8964-4fb5-9448-5176af27c056",
   "metadata": {},
   "outputs": [],
   "source": []
  },
  {
   "cell_type": "markdown",
   "id": "da223982-b812-4cdc-bf4a-c0186f0fff43",
   "metadata": {},
   "source": [
    "* 3) Pair items with prices using tuples."
   ]
  },
  {
   "cell_type": "code",
   "execution_count": 3,
   "id": "695ef23a-77a0-4b25-8318-850186e743bf",
   "metadata": {},
   "outputs": [
    {
     "name": "stdout",
     "output_type": "stream",
     "text": [
      "Milk: ₹25\n",
      "Eggs: ₹50\n",
      "Bread: ₹20\n"
     ]
    }
   ],
   "source": [
    "def show_items_with_prices(items):\n",
    "    for item in items:\n",
    "        print(f\"{item[0]}: ₹{item[1]}\")\n",
    "\n",
    "items = ((\"Milk\", 25), (\"Eggs\", 50), (\"Bread\", 20))\n",
    "show_items_with_prices(items)\n"
   ]
  },
  {
   "cell_type": "code",
   "execution_count": null,
   "id": "7aae7ebf-1ce5-4d13-a91e-ec55eae10bb9",
   "metadata": {},
   "outputs": [],
   "source": []
  },
  {
   "cell_type": "markdown",
   "id": "3ba14047-c992-45da-97e1-018c6df2bc7e",
   "metadata": {},
   "source": [
    "* 4) Store and display train schedule as tuples.\n"
   ]
  },
  {
   "cell_type": "code",
   "execution_count": 4,
   "id": "625cd4d6-5df0-4827-80d5-9fc338d399c7",
   "metadata": {},
   "outputs": [
    {
     "name": "stdout",
     "output_type": "stream",
     "text": [
      "Rajdhani departs at 10:00\n",
      "Shatabdi departs at 12:30\n",
      "Duronto departs at 17:00\n"
     ]
    }
   ],
   "source": [
    "def display_train_schedule(schedule):\n",
    "    for train in schedule:\n",
    "        print(f\"{train[0]} departs at {train[1]}\")\n",
    "\n",
    "schedule = ((\"Rajdhani\", \"10:00\"), (\"Shatabdi\", \"12:30\"), (\"Duronto\", \"17:00\"))\n",
    "display_train_schedule(schedule)\n",
    "\n"
   ]
  },
  {
   "cell_type": "code",
   "execution_count": null,
   "id": "df2a75e6-0db4-4050-8255-2c41b3cc5689",
   "metadata": {},
   "outputs": [],
   "source": []
  },
  {
   "cell_type": "markdown",
   "id": "4243da06-c793-4c49-9424-506867400cf1",
   "metadata": {},
   "source": [
    "* 5) Sort employee records by salary."
   ]
  },
  {
   "cell_type": "code",
   "execution_count": 5,
   "id": "40b202a4-b946-4352-8329-6cee73749186",
   "metadata": {},
   "outputs": [
    {
     "name": "stdout",
     "output_type": "stream",
     "text": [
      "Alice earns ₹55000\n",
      "John earns ₹40000\n",
      "Raj earns ₹30000\n"
     ]
    }
   ],
   "source": [
    "def sort_by_salary(employees):\n",
    "    sorted_emp = sorted(employees, key=lambda x: x[1], reverse=True)\n",
    "    for emp in sorted_emp:\n",
    "        print(f\"{emp[0]} earns ₹{emp[1]}\")\n",
    "\n",
    "employees = ((\"John\", 40000), (\"Alice\", 55000), (\"Raj\", 30000))\n",
    "sort_by_salary(employees)\n"
   ]
  },
  {
   "cell_type": "code",
   "execution_count": null,
   "id": "33349d7d-aae2-448d-a679-bc769c397266",
   "metadata": {},
   "outputs": [],
   "source": []
  },
  {
   "cell_type": "markdown",
   "id": "b981f088-9d22-430d-9efe-50d693a1a311",
   "metadata": {},
   "source": [
    "* 6) Count how many students scored above 75 marks."
   ]
  },
  {
   "cell_type": "code",
   "execution_count": 6,
   "id": "ee00bc0c-0c94-489a-9cb2-0c2ae5b38a0c",
   "metadata": {},
   "outputs": [
    {
     "name": "stdout",
     "output_type": "stream",
     "text": [
      "Students scoring above 75: 3\n"
     ]
    }
   ],
   "source": [
    "def count_above_75(marks):\n",
    "    count = sum(1 for mark in marks if mark > 75)\n",
    "    print(f\"Students scoring above 75: {count}\")\n",
    "\n",
    "marks = (67, 88, 92, 74, 76, 55)\n",
    "count_above_75(marks)\n"
   ]
  },
  {
   "cell_type": "code",
   "execution_count": null,
   "id": "2b075ff7-9ff0-4d14-a1f7-e671fc0879b4",
   "metadata": {},
   "outputs": [],
   "source": []
  },
  {
   "cell_type": "markdown",
   "id": "e7ac8999-1726-4dac-8350-5bab5089602a",
   "metadata": {},
   "source": [
    "* 7) Create a tuple of stock prices and find the max."
   ]
  },
  {
   "cell_type": "code",
   "execution_count": 7,
   "id": "55f697a5-86a4-4a67-bcc9-d5c5316c1026",
   "metadata": {},
   "outputs": [
    {
     "name": "stdout",
     "output_type": "stream",
     "text": [
      "Maximum stock price: ₹170.1\n"
     ]
    }
   ],
   "source": [
    "def max_stock_price(prices):\n",
    "    print(f\"Maximum stock price: ₹{max(prices)}\")\n",
    "\n",
    "prices = (154.5, 160.2, 149.8, 170.1)\n",
    "max_stock_price(prices)\n"
   ]
  },
  {
   "cell_type": "code",
   "execution_count": null,
   "id": "be00294c-5a19-4138-a7d1-b8d8c8f11570",
   "metadata": {},
   "outputs": [],
   "source": []
  },
  {
   "cell_type": "markdown",
   "id": "0eadf032-32ad-48c9-acce-3564ab1a6899",
   "metadata": {},
   "source": [
    "* 8) Log temperature readings during the day. Find the average temperature"
   ]
  },
  {
   "cell_type": "code",
   "execution_count": 8,
   "id": "6d1e4c27-5621-4dbf-92c3-2426e277e444",
   "metadata": {},
   "outputs": [
    {
     "name": "stdout",
     "output_type": "stream",
     "text": [
      "Average temperature: 30.42°C\n"
     ]
    }
   ],
   "source": [
    "def average_temperature(temps):\n",
    "    avg = sum(temps) / len(temps)\n",
    "    print(f\"Average temperature: {avg:.2f}°C\")\n",
    "\n",
    "temperatures = (29.5, 30.0, 32.2, 31.5, 28.9)\n",
    "average_temperature(temperatures)\n"
   ]
  },
  {
   "cell_type": "code",
   "execution_count": null,
   "id": "b2630006-fbe0-46ad-92b2-535c98affbd2",
   "metadata": {},
   "outputs": [],
   "source": []
  },
  {
   "cell_type": "markdown",
   "id": "f075b166-3f28-4103-a28e-c1d9f06baae8",
   "metadata": {},
   "source": [
    "* 9) Schedule appointments (name, time)."
   ]
  },
  {
   "cell_type": "code",
   "execution_count": 9,
   "id": "8f380231-8c94-42aa-8a7f-23d127e15682",
   "metadata": {},
   "outputs": [
    {
     "name": "stdout",
     "output_type": "stream",
     "text": [
      "Doctor at 10:00 AM\n",
      "Meeting at 2:00 PM\n"
     ]
    }
   ],
   "source": [
    "def display_appointments(appointments):\n",
    "    for app in appointments:\n",
    "        print(f\"{app[0]} at {app[1]}\")\n",
    "\n",
    "appointments = ((\"Doctor\", \"10:00 AM\"), (\"Meeting\", \"2:00 PM\"))\n",
    "display_appointments(appointments)\n"
   ]
  },
  {
   "cell_type": "code",
   "execution_count": null,
   "id": "6e91491a-5373-4f99-b4b3-963ba18e7f7f",
   "metadata": {},
   "outputs": [],
   "source": []
  },
  {
   "cell_type": "markdown",
   "id": "ea3600d3-98b7-4a6c-ae78-fd8c5f79c326",
   "metadata": {},
   "source": [
    "* 10) Store contact info (name, phone number)."
   ]
  },
  {
   "cell_type": "code",
   "execution_count": 10,
   "id": "047f90cf-5632-4795-b955-b501f3fb5b9e",
   "metadata": {},
   "outputs": [
    {
     "name": "stdout",
     "output_type": "stream",
     "text": [
      "Name: Anil, Phone: 9876543210\n",
      "Name: Priya, Phone: 9123456780\n"
     ]
    }
   ],
   "source": [
    "def show_contacts(contacts):\n",
    "    for contact in contacts:\n",
    "        print(f\"Name: {contact[0]}, Phone: {contact[1]}\")\n",
    "\n",
    "contacts = ((\"Anil\", \"9876543210\"), (\"Priya\", \"9123456780\"))\n",
    "show_contacts(contacts)\n"
   ]
  },
  {
   "cell_type": "code",
   "execution_count": null,
   "id": "858aa037-8a4b-4577-839c-4e16dccd5d57",
   "metadata": {},
   "outputs": [],
   "source": []
  },
  {
   "cell_type": "markdown",
   "id": "9aff9766-780b-4a1c-bbad-ff8fcd217b19",
   "metadata": {},
   "source": [
    "* 11) Display exam schedule with subject and time."
   ]
  },
  {
   "cell_type": "code",
   "execution_count": 11,
   "id": "a6f2bc31-7a22-42fa-a908-3ed7e665caf9",
   "metadata": {},
   "outputs": [
    {
     "name": "stdout",
     "output_type": "stream",
     "text": [
      "Math exam at 9:00 AM\n",
      "Science exam at 11:30 AM\n",
      "English exam at 2:00 PM\n"
     ]
    }
   ],
   "source": [
    "def display_exam_schedule(schedule):\n",
    "    for exam in schedule:\n",
    "        print(f\"{exam[0]} exam at {exam[1]}\")\n",
    "\n",
    "exams = ((\"Math\", \"9:00 AM\"), (\"Science\", \"11:30 AM\"), (\"English\", \"2:00 PM\"))\n",
    "display_exam_schedule(exams)\n"
   ]
  },
  {
   "cell_type": "code",
   "execution_count": null,
   "id": "7176cf9a-db7e-4dad-bedb-5015f0b9ce1b",
   "metadata": {},
   "outputs": [],
   "source": []
  }
 ],
 "metadata": {
  "kernelspec": {
   "display_name": "Python 3 (ipykernel)",
   "language": "python",
   "name": "python3"
  },
  "language_info": {
   "codemirror_mode": {
    "name": "ipython",
    "version": 3
   },
   "file_extension": ".py",
   "mimetype": "text/x-python",
   "name": "python",
   "nbconvert_exporter": "python",
   "pygments_lexer": "ipython3",
   "version": "3.13.2"
  }
 },
 "nbformat": 4,
 "nbformat_minor": 5
}
